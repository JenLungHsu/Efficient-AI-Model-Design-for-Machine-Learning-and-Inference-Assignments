{
 "cells": [
  {
   "cell_type": "markdown",
   "metadata": {
    "id": "U3at1mhslz9v"
   },
   "source": [
    "## 掛載雲端硬碟\n"
   ]
  },
  {
   "cell_type": "code",
   "execution_count": 22,
   "metadata": {
    "id": "ijtFdN9tl14V"
   },
   "outputs": [],
   "source": [
    "# from google.colab import drive\n",
    "# drive.mount('/content/drive')"
   ]
  },
  {
   "cell_type": "markdown",
   "metadata": {
    "id": "q5bhyRZrl4X2"
   },
   "source": [
    "## 更改檔案所在路徑"
   ]
  },
  {
   "cell_type": "code",
   "execution_count": 23,
   "metadata": {
    "id": "f2RXiD5Bl6a2"
   },
   "outputs": [],
   "source": [
    "# # Change to your own folder !!!\n",
    "# %cd /content/drive/MyDrive/Colab\\ Notebooks/EAI_Lab4_2023"
   ]
  },
  {
   "cell_type": "markdown",
   "metadata": {
    "id": "gSal5HL0lTHA"
   },
   "source": [
    "## Import library"
   ]
  },
  {
   "cell_type": "code",
   "execution_count": 24,
   "metadata": {
    "id": "6v2iM_kglWj-"
   },
   "outputs": [],
   "source": [
    "from __future__ import print_function\n",
    "import os\n",
    "import argparse\n",
    "\n",
    "import torch\n",
    "import torch.nn as nn\n",
    "import torch.nn.functional as F\n",
    "import torch.optim as optim\n",
    "from torchvision import datasets, transforms\n",
    "from torch.autograd import Variable\n",
    "\n",
    "from models import vgg"
   ]
  },
  {
   "cell_type": "markdown",
   "metadata": {
    "id": "yFgiQGL6mq6W"
   },
   "source": [
    "## 設定超參數"
   ]
  },
  {
   "cell_type": "code",
   "execution_count": 25,
   "metadata": {
    "id": "a8FQ-IsUmqtP"
   },
   "outputs": [],
   "source": [
    "TRAIN_BATCH_SIZE = 100\n",
    "TEST_BATCH_SIZE = 1000\n",
    "EPOCHS = 20\n",
    "LEARNING_RATE = 0.1\n",
    "MOMENTUM = 0.9\n",
    "WEIGHT_DECAY = 1e-4\n",
    "LOG_INTERVAL = 100\n",
    "CUDA = True\n",
    "SEED = 1\n",
    "\n",
    "RESUME = True\n",
    "START_EPOCH = 0\n",
    "\n",
    "PRUNE_PERCENT = 0.5\n",
    "PRUNE_PATH = f'/ssd6/Roy/EAI_Lab4_2024_題目/model_prune_{PRUNE_PERCENT}.pth'\n",
    "PRUNE_FINETUNE_PATH = f'/ssd6/Roy/EAI_Lab4_2024_題目/model_prune_finetune_{PRUNE_PERCENT}.pth'\n"
   ]
  },
  {
   "cell_type": "markdown",
   "metadata": {
    "id": "Yk2vUEvtE8H3"
   },
   "source": [
    "#### 檢查是否檢查是否可使用GPU"
   ]
  },
  {
   "cell_type": "code",
   "execution_count": 26,
   "metadata": {
    "id": "_Sa1Tmnym3Pn"
   },
   "outputs": [],
   "source": [
    "if(torch.cuda.is_available()):\n",
    "    CUDA = True\n",
    "    kwargs = {'num_workers': 1, 'pin_memory': True}\n",
    "    torch.cuda.manual_seed(SEED)\n",
    "else:\n",
    "    CUDA = False\n",
    "    kwargs = {}\n"
   ]
  },
  {
   "cell_type": "markdown",
   "metadata": {
    "id": "fylf4FTlm7QX"
   },
   "source": [
    "## 下載資料集\n"
   ]
  },
  {
   "cell_type": "markdown",
   "metadata": {
    "id": "erS9S_76nUsG"
   },
   "source": [
    "這裡將訓練集做Augmentation(Pad, RandCrop, Random)，測試集不用做Augmentation"
   ]
  },
  {
   "cell_type": "code",
   "execution_count": 27,
   "metadata": {
    "id": "vBW21uIHm_C-"
   },
   "outputs": [
    {
     "name": "stdout",
     "output_type": "stream",
     "text": [
      "Files already downloaded and verified\n"
     ]
    }
   ],
   "source": [
    "#### DATASET ####\n",
    "train_loader = torch.utils.data.DataLoader(\n",
    "    datasets.CIFAR10('./data', train=True, download=True,\n",
    "                   transform=transforms.Compose([\n",
    "                       transforms.Pad(4),\n",
    "                       transforms.RandomCrop(32),\n",
    "                       transforms.RandomHorizontalFlip(),\n",
    "                       transforms.ToTensor(),\n",
    "                       transforms.Normalize((0.5, 0.5, 0.5), (0.5, 0.5, 0.5))\n",
    "                   ])),\n",
    "    batch_size=TRAIN_BATCH_SIZE, shuffle=True, **kwargs)\n",
    "test_loader = torch.utils.data.DataLoader(\n",
    "    datasets.CIFAR10('./data', train=False, transform=transforms.Compose([\n",
    "                       transforms.ToTensor(),\n",
    "                       transforms.Normalize((0.5, 0.5, 0.5), (0.5, 0.5, 0.5))\n",
    "                   ])),\n",
    "    batch_size=TEST_BATCH_SIZE, shuffle=True, **kwargs)"
   ]
  },
  {
   "cell_type": "markdown",
   "metadata": {
    "id": "Is49FKBbuRj2"
   },
   "source": [
    "## 載入剪枝後的網路與權重"
   ]
  },
  {
   "cell_type": "code",
   "execution_count": 28,
   "metadata": {
    "id": "SUbUcHN4uQ89"
   },
   "outputs": [
    {
     "name": "stdout",
     "output_type": "stream",
     "text": [
      "RESUME PRUNE MODEL\n"
     ]
    },
    {
     "name": "stderr",
     "output_type": "stream",
     "text": [
      "/tmp/ipykernel_3168698/2756754050.py:3: FutureWarning: You are using `torch.load` with `weights_only=False` (the current default value), which uses the default pickle module implicitly. It is possible to construct malicious pickle data which will execute arbitrary code during unpickling (See https://github.com/pytorch/pytorch/blob/main/SECURITY.md#untrusted-models for more details). In a future release, the default value for `weights_only` will be flipped to `True`. This limits the functions that could be executed during unpickling. Arbitrary objects will no longer be allowed to be loaded via this mode unless they are explicitly allowlisted by the user via `torch.serialization.add_safe_globals`. We recommend you start setting `weights_only=True` for any use case where you don't have full control of the loaded file. Please open an issue on GitHub for any issues related to this experimental feature.\n",
      "  checkpoint = torch.load(PRUNE_PATH)\n"
     ]
    }
   ],
   "source": [
    "model = None\n",
    "if(RESUME):\n",
    "  checkpoint = torch.load(PRUNE_PATH)\n",
    "  model = vgg(cfg=checkpoint['cfg'])\n",
    "  model.load_state_dict(checkpoint['state_dict'])\n",
    "\n",
    "  print('RESUME PRUNE MODEL')\n",
    "\n",
    "if CUDA:\n",
    "    model.cuda()"
   ]
  },
  {
   "cell_type": "markdown",
   "metadata": {
    "id": "ZC8ECoKHu7iF"
   },
   "source": [
    "## 設定Optimizer，這裡使用Stocastic Gradient Descent with"
   ]
  },
  {
   "cell_type": "code",
   "execution_count": 29,
   "metadata": {
    "id": "EQ-soeyWvGyM"
   },
   "outputs": [],
   "source": [
    "optimizer = optim.SGD(model.parameters(), lr=LEARNING_RATE, momentum=MOMENTUM, weight_decay=WEIGHT_DECAY)"
   ]
  },
  {
   "cell_type": "markdown",
   "metadata": {
    "id": "gR2UTh0iwbEF"
   },
   "source": [
    "## 定義訓練跟測試函數"
   ]
  },
  {
   "cell_type": "code",
   "execution_count": 30,
   "metadata": {
    "id": "hQcKuMDee46V"
   },
   "outputs": [
    {
     "name": "stdout",
     "output_type": "stream",
     "text": [
      "Train Epoch: 0 [0/50000 (0.0%)]\tLoss: 0.026769\n",
      "Train Epoch: 0 [10000/50000 (20.0%)]\tLoss: 0.452741\n",
      "Train Epoch: 0 [20000/50000 (40.0%)]\tLoss: 0.319315\n",
      "Train Epoch: 0 [30000/50000 (60.0%)]\tLoss: 0.306196\n",
      "Train Epoch: 0 [40000/50000 (80.0%)]\tLoss: 0.305088\n",
      "Train Accuracy for Epoch 0: 89.38%\n",
      "\n",
      "Test set: Average loss: 0.5087, Accuracy: 8418/10000 (84.2%)\n",
      "\n",
      "Train Epoch: 1 [0/50000 (0.0%)]\tLoss: 0.220949\n",
      "Train Epoch: 1 [10000/50000 (20.0%)]\tLoss: 0.363606\n",
      "Train Epoch: 1 [20000/50000 (40.0%)]\tLoss: 0.316303\n",
      "Train Epoch: 1 [30000/50000 (60.0%)]\tLoss: 0.317777\n",
      "Train Epoch: 1 [40000/50000 (80.0%)]\tLoss: 0.253229\n",
      "Train Accuracy for Epoch 1: 91.00%\n",
      "\n",
      "Test set: Average loss: 0.4360, Accuracy: 8680/10000 (86.8%)\n",
      "\n",
      "Train Epoch: 2 [0/50000 (0.0%)]\tLoss: 0.258212\n",
      "Train Epoch: 2 [10000/50000 (20.0%)]\tLoss: 0.213069\n",
      "Train Epoch: 2 [20000/50000 (40.0%)]\tLoss: 0.235742\n",
      "Train Epoch: 2 [30000/50000 (60.0%)]\tLoss: 0.232902\n",
      "Train Epoch: 2 [40000/50000 (80.0%)]\tLoss: 0.278190\n",
      "Train Accuracy for Epoch 2: 91.60%\n",
      "\n",
      "Test set: Average loss: 0.4319, Accuracy: 8665/10000 (86.7%)\n",
      "\n",
      "Train Epoch: 3 [0/50000 (0.0%)]\tLoss: 0.168066\n",
      "Train Epoch: 3 [10000/50000 (20.0%)]\tLoss: 0.232910\n",
      "Train Epoch: 3 [20000/50000 (40.0%)]\tLoss: 0.193360\n",
      "Train Epoch: 3 [30000/50000 (60.0%)]\tLoss: 0.298065\n",
      "Train Epoch: 3 [40000/50000 (80.0%)]\tLoss: 0.201762\n",
      "Train Accuracy for Epoch 3: 92.10%\n",
      "\n",
      "Test set: Average loss: 0.4044, Accuracy: 8755/10000 (87.6%)\n",
      "\n",
      "Train Epoch: 4 [0/50000 (0.0%)]\tLoss: 0.214956\n",
      "Train Epoch: 4 [10000/50000 (20.0%)]\tLoss: 0.212683\n",
      "Train Epoch: 4 [20000/50000 (40.0%)]\tLoss: 0.191347\n",
      "Train Epoch: 4 [30000/50000 (60.0%)]\tLoss: 0.150244\n",
      "Train Epoch: 4 [40000/50000 (80.0%)]\tLoss: 0.267188\n",
      "Train Accuracy for Epoch 4: 92.31%\n",
      "\n",
      "Test set: Average loss: 0.3790, Accuracy: 8838/10000 (88.4%)\n",
      "\n",
      "Train Epoch: 5 [0/50000 (0.0%)]\tLoss: 0.123938\n",
      "Train Epoch: 5 [10000/50000 (20.0%)]\tLoss: 0.186999\n",
      "Train Epoch: 5 [20000/50000 (40.0%)]\tLoss: 0.245914\n",
      "Train Epoch: 5 [30000/50000 (60.0%)]\tLoss: 0.435543\n",
      "Train Epoch: 5 [40000/50000 (80.0%)]\tLoss: 0.331333\n",
      "Train Accuracy for Epoch 5: 92.59%\n",
      "\n",
      "Test set: Average loss: 0.3887, Accuracy: 8829/10000 (88.3%)\n",
      "\n",
      "Train Epoch: 6 [0/50000 (0.0%)]\tLoss: 0.189185\n",
      "Train Epoch: 6 [10000/50000 (20.0%)]\tLoss: 0.263197\n",
      "Train Epoch: 6 [20000/50000 (40.0%)]\tLoss: 0.192169\n",
      "Train Epoch: 6 [30000/50000 (60.0%)]\tLoss: 0.465947\n",
      "Train Epoch: 6 [40000/50000 (80.0%)]\tLoss: 0.177229\n",
      "Train Accuracy for Epoch 6: 92.65%\n",
      "\n",
      "Test set: Average loss: 0.4014, Accuracy: 8758/10000 (87.6%)\n",
      "\n",
      "Train Epoch: 7 [0/50000 (0.0%)]\tLoss: 0.207183\n",
      "Train Epoch: 7 [10000/50000 (20.0%)]\tLoss: 0.230230\n",
      "Train Epoch: 7 [20000/50000 (40.0%)]\tLoss: 0.209964\n",
      "Train Epoch: 7 [30000/50000 (60.0%)]\tLoss: 0.346913\n",
      "Train Epoch: 7 [40000/50000 (80.0%)]\tLoss: 0.185625\n",
      "Train Accuracy for Epoch 7: 92.79%\n",
      "\n",
      "Test set: Average loss: 0.3794, Accuracy: 8855/10000 (88.6%)\n",
      "\n",
      "Train Epoch: 8 [0/50000 (0.0%)]\tLoss: 0.165618\n",
      "Train Epoch: 8 [10000/50000 (20.0%)]\tLoss: 0.094623\n",
      "Train Epoch: 8 [20000/50000 (40.0%)]\tLoss: 0.266823\n",
      "Train Epoch: 8 [30000/50000 (60.0%)]\tLoss: 0.115457\n",
      "Train Epoch: 8 [40000/50000 (80.0%)]\tLoss: 0.267636\n",
      "Train Accuracy for Epoch 8: 93.36%\n",
      "\n",
      "Test set: Average loss: 0.4474, Accuracy: 8716/10000 (87.2%)\n",
      "\n",
      "Train Epoch: 9 [0/50000 (0.0%)]\tLoss: 0.214626\n",
      "Train Epoch: 9 [10000/50000 (20.0%)]\tLoss: 0.238644\n",
      "Train Epoch: 9 [20000/50000 (40.0%)]\tLoss: 0.127717\n",
      "Train Epoch: 9 [30000/50000 (60.0%)]\tLoss: 0.161614\n",
      "Train Epoch: 9 [40000/50000 (80.0%)]\tLoss: 0.164778\n",
      "Train Accuracy for Epoch 9: 93.02%\n",
      "\n",
      "Test set: Average loss: 0.4248, Accuracy: 8716/10000 (87.2%)\n",
      "\n",
      "Train Epoch: 10 [0/50000 (0.0%)]\tLoss: 0.135000\n",
      "Train Epoch: 10 [10000/50000 (20.0%)]\tLoss: 0.139664\n",
      "Train Epoch: 10 [20000/50000 (40.0%)]\tLoss: 0.104094\n",
      "Train Epoch: 10 [30000/50000 (60.0%)]\tLoss: 0.066976\n",
      "Train Epoch: 10 [40000/50000 (80.0%)]\tLoss: 0.091359\n",
      "Train Accuracy for Epoch 10: 96.53%\n",
      "\n",
      "Test set: Average loss: 0.2681, Accuracy: 9183/10000 (91.8%)\n",
      "\n",
      "Train Epoch: 11 [0/50000 (0.0%)]\tLoss: 0.066540\n",
      "Train Epoch: 11 [10000/50000 (20.0%)]\tLoss: 0.068120\n",
      "Train Epoch: 11 [20000/50000 (40.0%)]\tLoss: 0.032412\n",
      "Train Epoch: 11 [30000/50000 (60.0%)]\tLoss: 0.087890\n",
      "Train Epoch: 11 [40000/50000 (80.0%)]\tLoss: 0.138124\n",
      "Train Accuracy for Epoch 11: 97.69%\n",
      "\n",
      "Test set: Average loss: 0.2691, Accuracy: 9225/10000 (92.2%)\n",
      "\n",
      "Train Epoch: 12 [0/50000 (0.0%)]\tLoss: 0.113080\n",
      "Train Epoch: 12 [10000/50000 (20.0%)]\tLoss: 0.036259\n",
      "Train Epoch: 12 [20000/50000 (40.0%)]\tLoss: 0.018425\n",
      "Train Epoch: 12 [30000/50000 (60.0%)]\tLoss: 0.046927\n",
      "Train Epoch: 12 [40000/50000 (80.0%)]\tLoss: 0.038127\n",
      "Train Accuracy for Epoch 12: 98.03%\n",
      "\n",
      "Test set: Average loss: 0.2750, Accuracy: 9207/10000 (92.1%)\n",
      "\n",
      "Train Epoch: 13 [0/50000 (0.0%)]\tLoss: 0.056527\n",
      "Train Epoch: 13 [10000/50000 (20.0%)]\tLoss: 0.016207\n",
      "Train Epoch: 13 [20000/50000 (40.0%)]\tLoss: 0.012845\n",
      "Train Epoch: 13 [30000/50000 (60.0%)]\tLoss: 0.075520\n",
      "Train Epoch: 13 [40000/50000 (80.0%)]\tLoss: 0.099361\n",
      "Train Accuracy for Epoch 13: 98.39%\n",
      "\n",
      "Test set: Average loss: 0.2799, Accuracy: 9243/10000 (92.4%)\n",
      "\n",
      "Train Epoch: 14 [0/50000 (0.0%)]\tLoss: 0.007649\n",
      "Train Epoch: 14 [10000/50000 (20.0%)]\tLoss: 0.075603\n",
      "Train Epoch: 14 [20000/50000 (40.0%)]\tLoss: 0.043125\n",
      "Train Epoch: 14 [30000/50000 (60.0%)]\tLoss: 0.026340\n",
      "Train Epoch: 14 [40000/50000 (80.0%)]\tLoss: 0.035690\n",
      "Train Accuracy for Epoch 14: 98.55%\n",
      "\n",
      "Test set: Average loss: 0.2828, Accuracy: 9248/10000 (92.5%)\n",
      "\n",
      "Train Epoch: 15 [0/50000 (0.0%)]\tLoss: 0.061219\n",
      "Train Epoch: 15 [10000/50000 (20.0%)]\tLoss: 0.016426\n",
      "Train Epoch: 15 [20000/50000 (40.0%)]\tLoss: 0.027575\n",
      "Train Epoch: 15 [30000/50000 (60.0%)]\tLoss: 0.027853\n",
      "Train Epoch: 15 [40000/50000 (80.0%)]\tLoss: 0.013351\n",
      "Train Accuracy for Epoch 15: 98.78%\n",
      "\n",
      "Test set: Average loss: 0.2783, Accuracy: 9254/10000 (92.5%)\n",
      "\n",
      "Train Epoch: 16 [0/50000 (0.0%)]\tLoss: 0.037755\n",
      "Train Epoch: 16 [10000/50000 (20.0%)]\tLoss: 0.051667\n",
      "Train Epoch: 16 [20000/50000 (40.0%)]\tLoss: 0.046836\n",
      "Train Epoch: 16 [30000/50000 (60.0%)]\tLoss: 0.039746\n",
      "Train Epoch: 16 [40000/50000 (80.0%)]\tLoss: 0.053518\n",
      "Train Accuracy for Epoch 16: 98.74%\n",
      "\n",
      "Test set: Average loss: 0.2774, Accuracy: 9253/10000 (92.5%)\n",
      "\n",
      "Train Epoch: 17 [0/50000 (0.0%)]\tLoss: 0.015545\n",
      "Train Epoch: 17 [10000/50000 (20.0%)]\tLoss: 0.027941\n",
      "Train Epoch: 17 [20000/50000 (40.0%)]\tLoss: 0.139537\n",
      "Train Epoch: 17 [30000/50000 (60.0%)]\tLoss: 0.058933\n",
      "Train Epoch: 17 [40000/50000 (80.0%)]\tLoss: 0.037944\n",
      "Train Accuracy for Epoch 17: 98.88%\n",
      "\n",
      "Test set: Average loss: 0.2771, Accuracy: 9260/10000 (92.6%)\n",
      "\n",
      "Train Epoch: 18 [0/50000 (0.0%)]\tLoss: 0.045195\n",
      "Train Epoch: 18 [10000/50000 (20.0%)]\tLoss: 0.060970\n",
      "Train Epoch: 18 [20000/50000 (40.0%)]\tLoss: 0.014333\n",
      "Train Epoch: 18 [30000/50000 (60.0%)]\tLoss: 0.029552\n",
      "Train Epoch: 18 [40000/50000 (80.0%)]\tLoss: 0.032915\n",
      "Train Accuracy for Epoch 18: 98.89%\n",
      "\n",
      "Test set: Average loss: 0.2776, Accuracy: 9245/10000 (92.4%)\n",
      "\n",
      "Train Epoch: 19 [0/50000 (0.0%)]\tLoss: 0.066163\n",
      "Train Epoch: 19 [10000/50000 (20.0%)]\tLoss: 0.007639\n",
      "Train Epoch: 19 [20000/50000 (40.0%)]\tLoss: 0.024447\n",
      "Train Epoch: 19 [30000/50000 (60.0%)]\tLoss: 0.003823\n",
      "Train Epoch: 19 [40000/50000 (80.0%)]\tLoss: 0.046713\n",
      "Train Accuracy for Epoch 19: 98.92%\n",
      "\n",
      "Test set: Average loss: 0.2777, Accuracy: 9261/10000 (92.6%)\n",
      "\n",
      "\n",
      " TRAIN PRUNED MODEL DONE!\n"
     ]
    }
   ],
   "source": [
    "# 注意: 需自行撰寫儲存每個epoch之train acc的code，以便後續繪製train acc結果圖!\n",
    "train_acc_list = []  # 用於儲存每個 epoch 的訓練準確率\n",
    "\n",
    "#### 訓練函數 #####\n",
    "def train(epoch):\n",
    "    model.train()\n",
    "    train_correct = 0\n",
    "    train_total = 0\n",
    "\n",
    "    for batch_idx, (data, target) in enumerate(train_loader):\n",
    "        if CUDA:\n",
    "            data, target = data.cuda(), target.cuda()\n",
    "        data, target = Variable(data), Variable(target)\n",
    "        optimizer.zero_grad()\n",
    "        output = model(data)\n",
    "\n",
    "        pred = output.data.max(1, keepdim=True)[1]\n",
    "        train_correct += pred.eq(target.data.view_as(pred)).cpu().sum().item()\n",
    "        train_total += target.size(0)\n",
    "\n",
    "        loss = F.cross_entropy(output, target)\n",
    "        loss.backward()\n",
    "        optimizer.step()\n",
    "        if batch_idx % LOG_INTERVAL == 0:\n",
    "            print('Train Epoch: {} [{}/{} ({:.1f}%)]\\tLoss: {:.6f}'.format(\n",
    "                epoch, batch_idx * len(data), len(train_loader.dataset),\n",
    "                100. * batch_idx / len(train_loader), loss.data.item()))\n",
    "    \n",
    "    # 計算當前 epoch 的訓練準確率並儲存\n",
    "    train_accuracy = train_correct / train_total\n",
    "    train_acc_list.append(train_accuracy)\n",
    "    print(f'Train Accuracy for Epoch {epoch}: {train_accuracy * 100:.2f}%')\n",
    "\n",
    "\n",
    "#### 測試函數 ####\n",
    "def test():\n",
    "    model.eval()\n",
    "    test_loss = 0\n",
    "    correct = 0\n",
    "\n",
    "    with torch.no_grad():\n",
    "      for data, target in test_loader:\n",
    "          if CUDA:\n",
    "              data, target = data.cuda(), target.cuda()\n",
    "          data, target = Variable(data), Variable(target)\n",
    "          output = model(data)\n",
    "          test_loss += F.cross_entropy(output, target, reduction='sum').data.item()\n",
    "          pred = output.data.max(1, keepdim=True)[1]\n",
    "          correct += pred.eq(target.data.view_as(pred)).cpu().sum()\n",
    "\n",
    "      test_loss /= len(test_loader.dataset)\n",
    "      print('\\nTest set: Average loss: {:.4f}, Accuracy: {}/{} ({:.1f}%)\\n'.format(\n",
    "          test_loss, correct, len(test_loader.dataset),\n",
    "          100. * correct / len(test_loader.dataset)))\n",
    "      return correct / float(len(test_loader.dataset))\n",
    "\n",
    "best_prec1 = 0.\n",
    "for epoch in range(START_EPOCH, EPOCHS):\n",
    "    # Learning Rate在0.5EPOCHS與0.75EPOCHS調整為原本1/10\n",
    "    if epoch in [EPOCHS*0.5, EPOCHS*0.75]:\n",
    "        for param_group in optimizer.param_groups:\n",
    "            param_group['lr'] *= 0.1\n",
    "    train(epoch)\n",
    "    prec1 = test()\n",
    "\n",
    "    # 儲存模型權重，方便做後續剪枝,後續訓練\n",
    "    if(prec1 > best_prec1):\n",
    "        torch.save({\n",
    "            'epoch': epoch + 1,\n",
    "            'state_dict': model.state_dict(),\n",
    "            'best_prec1': best_prec1,\n",
    "            'optimizer': optimizer.state_dict(),\n",
    "        }, PRUNE_FINETUNE_PATH)\n",
    "\n",
    "    best_prec1 = max(prec1, best_prec1)\n",
    "\n",
    "print('\\n TRAIN PRUNED MODEL DONE!')\n"
   ]
  },
  {
   "cell_type": "markdown",
   "metadata": {
    "id": "8I1zyyqmNtQk"
   },
   "source": [
    "## 繪製Fine-tuning結果圖\n"
   ]
  },
  {
   "cell_type": "code",
   "execution_count": 31,
   "metadata": {
    "id": "WH1VaayxN1Qj"
   },
   "outputs": [
    {
     "data": {
      "image/png": "[encoded data removed]",
      "text/plain": [
       "<Figure size 640x480 with 1 Axes>"
      ]
     },
     "metadata": {},
     "output_type": "display_data"
    }
   ],
   "source": [
    "#繪製Fine-tuning結果圖\n",
    "# 在訓練過程完成後，可以使用 train_acc_list 繪製訓練準確率\n",
    "import matplotlib.pyplot as plt\n",
    "\n",
    "plt.figure()\n",
    "plt.plot(range(START_EPOCH, EPOCHS), train_acc_list, label='Training Accuracy')\n",
    "plt.xlabel('Epoch')\n",
    "plt.ylabel('Value')\n",
    "plt.title('Training Accuracy Curve')\n",
    "plt.legend()\n",
    "plt.show()"
   ]
  }
 ],
 "metadata": {
  "accelerator": "GPU",
  "colab": {
   "provenance": []
  },
  "gpuClass": "standard",
  "kernelspec": {
   "display_name": "Roy",
   "language": "python",
   "name": "python3"
  },
  "language_info": {
   "codemirror_mode": {
    "name": "ipython",
    "version": 3
   },
   "file_extension": ".py",
   "mimetype": "text/x-python",
   "name": "python",
   "nbconvert_exporter": "python",
   "pygments_lexer": "ipython3",
   "version": "3.8.18"
  }
 },
 "nbformat": 4,
 "nbformat_minor": 0
}
